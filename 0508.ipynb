{
  "nbformat": 4,
  "nbformat_minor": 0,
  "metadata": {
    "colab": {
      "provenance": [],
      "authorship_tag": "ABX9TyNSctbsb8CTtE14/FTvMCF9",
      "include_colab_link": true
    },
    "kernelspec": {
      "name": "python3",
      "display_name": "Python 3"
    },
    "language_info": {
      "name": "python"
    }
  },
  "cells": [
    {
      "cell_type": "markdown",
      "metadata": {
        "id": "view-in-github",
        "colab_type": "text"
      },
      "source": [
        "<a href=\"https://colab.research.google.com/github/lytzu/Introduction-to-Computer/blob/main/0508.ipynb\" target=\"_parent\"><img src=\"https://colab.research.google.com/assets/colab-badge.svg\" alt=\"Open In Colab\"/></a>"
      ]
    },
    {
      "cell_type": "code",
      "execution_count": 1,
      "metadata": {
        "colab": {
          "base_uri": "https://localhost:8080/"
        },
        "id": "NESRqL76Nnub",
        "outputId": "8820676e-404d-4730-9b7f-fc64b49b18c5"
      },
      "outputs": [
        {
          "output_type": "stream",
          "name": "stdout",
          "text": [
            "0508\n"
          ]
        }
      ],
      "source": [
        "print(\"0508\")"
      ]
    },
    {
      "cell_type": "code",
      "source": [
        "print(\"Hi    \")"
      ],
      "metadata": {
        "colab": {
          "base_uri": "https://localhost:8080/"
        },
        "id": "SpYJYC5vO6I0",
        "outputId": "7a9b1689-78ca-4dcf-923a-b423c9a9a552"
      },
      "execution_count": 2,
      "outputs": [
        {
          "output_type": "stream",
          "name": "stdout",
          "text": [
            "Hi    \n"
          ]
        }
      ]
    },
    {
      "cell_type": "code",
      "source": [
        "print(\"Hi\")"
      ],
      "metadata": {
        "colab": {
          "base_uri": "https://localhost:8080/"
        },
        "id": "iPYFvN7aPUWG",
        "outputId": "9652cb92-d9ab-47fa-cd5f-fef84d93b51b"
      },
      "execution_count": 3,
      "outputs": [
        {
          "output_type": "stream",
          "name": "stdout",
          "text": [
            "Hi\n"
          ]
        }
      ]
    },
    {
      "cell_type": "code",
      "source": [
        "score = int(input(\"請輸入分數:\"))\n",
        "if score >= 60:\n",
        "  print(\"及格\")\n",
        "else:\n",
        "  print(\"不及格\")"
      ],
      "metadata": {
        "colab": {
          "base_uri": "https://localhost:8080/"
        },
        "id": "5AcKFK_HPfjH",
        "outputId": "ff64e9d2-d8d6-4690-e7d6-361adf05a7b0"
      },
      "execution_count": 34,
      "outputs": [
        {
          "output_type": "stream",
          "name": "stdout",
          "text": [
            "請輸入分數:45\n",
            "不及格\n"
          ]
        }
      ]
    },
    {
      "cell_type": "code",
      "source": [
        "password = int(input(\"請輸入密碼:\"))\n",
        "if password == 1234:\n",
        "  print(\"密碼正確\")\n",
        "else:\n",
        "  print(\"密碼不正確\")"
      ],
      "metadata": {
        "colab": {
          "base_uri": "https://localhost:8080/"
        },
        "id": "F9lLVCMXSCb6",
        "outputId": "06539106-6423-408f-e30e-f7a54f18480c"
      },
      "execution_count": 33,
      "outputs": [
        {
          "output_type": "stream",
          "name": "stdout",
          "text": [
            "請輸入密碼:1233\n",
            "密碼不正確\n"
          ]
        }
      ]
    },
    {
      "cell_type": "code",
      "source": [
        "rain = str(input(\"今天會下雨嗎?\"))\n",
        "if (rain == \"Y\" or rain == \"y\"):\n",
        "  print(\"出門記得傘!\")\n",
        "else:\n",
        "  print(\"不用帶傘\")"
      ],
      "metadata": {
        "colab": {
          "base_uri": "https://localhost:8080/"
        },
        "id": "xVZVCeTITgXl",
        "outputId": "36753905-fe99-468a-b0a0-908fbe92f315"
      },
      "execution_count": 45,
      "outputs": [
        {
          "output_type": "stream",
          "name": "stdout",
          "text": [
            "今天會下雨嗎?n\n",
            "不用帶傘\n"
          ]
        }
      ]
    },
    {
      "cell_type": "code",
      "source": [
        "num = int(input(\"請輸入正整數:\"))\n",
        "if (num % 2 ) == 0:\n",
        "  print(\"{0}為偶數!\".format(num))\n",
        "else:\n",
        "  print(\"{0}為奇數!\".format(num))\n"
      ],
      "metadata": {
        "colab": {
          "base_uri": "https://localhost:8080/"
        },
        "id": "FhVTM6_XYGzw",
        "outputId": "42d800e8-b861-44da-f61b-b2fdab35cbad"
      },
      "execution_count": 49,
      "outputs": [
        {
          "output_type": "stream",
          "name": "stdout",
          "text": [
            "請輸入正整數:3\n",
            "3為奇數!\n"
          ]
        }
      ]
    }
  ]
}