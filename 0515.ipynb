{
  "nbformat": 4,
  "nbformat_minor": 0,
  "metadata": {
    "colab": {
      "provenance": [],
      "authorship_tag": "ABX9TyNDPGy2ZD73rulQOMZ/fW/R",
      "include_colab_link": true
    },
    "kernelspec": {
      "name": "python3",
      "display_name": "Python 3"
    },
    "language_info": {
      "name": "python"
    }
  },
  "cells": [
    {
      "cell_type": "markdown",
      "metadata": {
        "id": "view-in-github",
        "colab_type": "text"
      },
      "source": [
        "<a href=\"https://colab.research.google.com/github/lytzu/Introduction-to-Computer/blob/main/0515.ipynb\" target=\"_parent\"><img src=\"https://colab.research.google.com/assets/colab-badge.svg\" alt=\"Open In Colab\"/></a>"
      ]
    },
    {
      "cell_type": "code",
      "execution_count": 1,
      "metadata": {
        "colab": {
          "base_uri": "https://localhost:8080/"
        },
        "id": "lkJA_3BvQ2GN",
        "outputId": "30125b9a-1f99-4dfe-fa69-d1b6236b1fe7"
      },
      "outputs": [
        {
          "output_type": "stream",
          "name": "stdout",
          "text": [
            "0515\n"
          ]
        }
      ],
      "source": [
        "print(\"0515\")"
      ]
    },
    {
      "cell_type": "code",
      "source": [
        "rain = str(input(\"今天會下雨嗎?\"))\n",
        "if (rain == \"Y\" or rain == \"y\"):\n",
        "  print(\"出門記得傘!\")\n",
        "elif (rain == \"N\" or rain == \"n\"):\n",
        "  print(\"不用帶傘\")\n",
        "else:\n",
        "  print(\"請重新輸入!\")\n"
      ],
      "metadata": {
        "colab": {
          "base_uri": "https://localhost:8080/"
        },
        "id": "LDpDdi_vSAlO",
        "outputId": "198bd0ad-102a-432e-dc12-087e734b9eb9"
      },
      "execution_count": 22,
      "outputs": [
        {
          "output_type": "stream",
          "name": "stdout",
          "text": [
            "今天會下雨嗎?r\n",
            "請重新輸入!\n"
          ]
        }
      ]
    },
    {
      "cell_type": "code",
      "source": [
        "tem = float(input(\"請輸入體溫:\"))\n",
        "if tem >= 37.5:\n",
        "  print(\"體溫過高!\")\n",
        "elif tem <= 37.4 or tem >= 37:\n",
        "  print(\"體溫略高!\")\n",
        "elif tem <= 36.9 or tem >= 34:\n",
        "  print(\"體溫正常!\")\n",
        "else:\n",
        "  tem < 34\n",
        "  print(\"體溫異常，請重新測量\")"
      ],
      "metadata": {
        "colab": {
          "base_uri": "https://localhost:8080/"
        },
        "id": "S2VvqrxPVPa7",
        "outputId": "d1265be4-45fe-4deb-c1a3-c75fe61543d9"
      },
      "execution_count": 17,
      "outputs": [
        {
          "output_type": "stream",
          "name": "stdout",
          "text": [
            "請輸入體溫:36.5\n",
            "體溫略高!\n"
          ]
        }
      ]
    },
    {
      "cell_type": "code",
      "source": [
        "score = int(input(\"請輸入成績 \"))\n",
        "if score >= 90:\n",
        "    print('A')\n",
        "elif score >= 80:\n",
        "    print('B')\n",
        "elif score >= 70:\n",
        "    print('C')\n",
        "elif score >= 60:\n",
        "    print('D')\n",
        "else:\n",
        "    print('E')"
      ],
      "metadata": {
        "colab": {
          "base_uri": "https://localhost:8080/"
        },
        "id": "Ct10vkAmVTeU",
        "outputId": "1aab893d-eec1-44a3-803a-cfe1f7b5dda4"
      },
      "execution_count": 23,
      "outputs": [
        {
          "output_type": "stream",
          "name": "stdout",
          "text": [
            "請輸入成績 88\n",
            "B\n"
          ]
        }
      ]
    },
    {
      "cell_type": "code",
      "source": [
        "month = int(input(\"請輸入月份：\"))\n",
        "if month == 12 or month == 1 or month == 2:\n",
        "    print(month,\"月是冬天!\")\n",
        "elif month >= 3 and month <= 5:\n",
        "    print(month,\"月是春天!\")\n",
        "elif month >= 6 and month <= 8:\n",
        "    print(month,\"月是夏天!\")\n",
        "elif month >= 9 and month <= 11:\n",
        "    print(month,\"月是秋天!\")\n",
        "else:\n",
        "  print(\"月份不再範圍內!\")\n"
      ],
      "metadata": {
        "colab": {
          "base_uri": "https://localhost:8080/"
        },
        "id": "AmGTiK6zaPFr",
        "outputId": "5e55e301-80ba-4cc3-aaca-8e703c91e29b"
      },
      "execution_count": 27,
      "outputs": [
        {
          "output_type": "stream",
          "name": "stdout",
          "text": [
            "請輸入月份：8\n",
            "8 月是夏天!\n"
          ]
        }
      ]
    },
    {
      "cell_type": "code",
      "source": [
        "salary = int(input(\"請輸入今年收入淨額:\"))\n",
        "if salary > 2000000:\n",
        "  salary * 0.3\n",
        "  print(\"付稅金額:\",salary * 0.3,\"元\")\n",
        "elif salary > 1000000 and salary < 2000000:\n",
        "  salary * 0.21\n",
        "  print(\"付稅金額:\",salary * 0.21,\"元\")\n",
        "elif salary > 600000 and salary < 1000000:\n",
        "  salary * 0.13\n",
        "  print(\"付稅金額:\",salary * 0.13,\"元\")\n",
        "elif salary > 300000 and salary < 6000000:\n",
        "  salary * 0.06\n",
        "  print(\"付稅金額:\",salary * 0.06,\"元\")\n",
        "else:\n",
        "  print(\"不須繳稅!\")"
      ],
      "metadata": {
        "colab": {
          "base_uri": "https://localhost:8080/"
        },
        "id": "qbitFRi-be8c",
        "outputId": "fb8c156c-e3f0-41a7-f416-af531586c7f4"
      },
      "execution_count": 31,
      "outputs": [
        {
          "output_type": "stream",
          "name": "stdout",
          "text": [
            "請輸入今年收入淨額:45\n",
            "不須繳稅!\n"
          ]
        }
      ]
    },
    {
      "cell_type": "code",
      "source": [
        "money = int(input(\"請輸入購物金額:\"))\n",
        "if money >= 100000:\n",
        "  money * 0.8\n",
        "  print(\"八折\",money * 0.8,\"元\")\n",
        "elif money >= 50000:\n",
        "  money * 0.85\n",
        "  print(\"八五折\",money * 0.85,\"元\")\n",
        "elif money >= 30000:\n",
        "  money * 0.9\n",
        "  print(\"九折\",money * 0.9,\"元\")\n",
        "elif money >= 10000:\n",
        "  money * 0.95\n",
        "  print(\"九五折\",money * 0.95,\"元\")\n",
        "else:\n",
        "  print(\"沒打折\",money,\"元\")"
      ],
      "metadata": {
        "colab": {
          "base_uri": "https://localhost:8080/"
        },
        "id": "wGPhQEDYdaE9",
        "outputId": "735a8478-024f-48f3-b9d9-d048b2ba4537"
      },
      "execution_count": 32,
      "outputs": [
        {
          "output_type": "stream",
          "name": "stdout",
          "text": [
            "請輸入購物金額:90000\n",
            "八五折 76500.0 元\n"
          ]
        }
      ]
    }
  ]
}